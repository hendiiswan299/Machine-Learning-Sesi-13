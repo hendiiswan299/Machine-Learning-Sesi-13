{
  "nbformat": 4,
  "nbformat_minor": 0,
  "metadata": {
    "colab": {
      "provenance": []
    },
    "kernelspec": {
      "name": "python3",
      "display_name": "Python 3"
    },
    "language_info": {
      "name": "python"
    }
  },
  "cells": [
    {
      "cell_type": "code",
      "execution_count": 2,
      "metadata": {
        "colab": {
          "base_uri": "https://localhost:8080/"
        },
        "id": "DxnsvveNYxJJ",
        "outputId": "0fb26353-2c92-471a-a661-416ea132e743"
      },
      "outputs": [
        {
          "output_type": "stream",
          "name": "stdout",
          "text": [
            "aku bocil ganteng .\n"
          ]
        }
      ],
      "source": [
        "def to_lowercase(text):\n",
        "    return text.lower()\n",
        "\n",
        "# Contoh penggunaan\n",
        "sample_text = \"AKU BOCIL GANTENG .\"\n",
        "print(to_lowercase(sample_text))\n"
      ]
    },
    {
      "cell_type": "code",
      "source": [
        "import string\n",
        "\n",
        "def remove_punctuation(text):\n",
        "    return text.translate(str.maketrans('', '', string.punctuation))\n",
        "\n",
        "# Contoh penggunaan\n",
        "sample_text = \"UGH !!! Kaget\"\n",
        "print(remove_punctuation(sample_text))\n"
      ],
      "metadata": {
        "colab": {
          "base_uri": "https://localhost:8080/"
        },
        "id": "lxy6-x7QdPqH",
        "outputId": "d839fcd2-619b-4ec5-a365-ada387f2ce63"
      },
      "execution_count": 3,
      "outputs": [
        {
          "output_type": "stream",
          "name": "stdout",
          "text": [
            "UGH  Kaget\n"
          ]
        }
      ]
    },
    {
      "cell_type": "code",
      "source": [
        "import re\n",
        "\n",
        "def remove_numbers(text):\n",
        "    return re.sub(r'\\d+', '', text)\n",
        "\n",
        "# Contoh penggunaan\n",
        "sample_text = \" 1 2 kucing kelabu nenek tua berambut abu - abu\"\n",
        "print(remove_numbers(sample_text))\n"
      ],
      "metadata": {
        "colab": {
          "base_uri": "https://localhost:8080/"
        },
        "id": "N16eY9z8dRb-",
        "outputId": "ecb40550-1f09-4060-975f-90e790f6aacf"
      },
      "execution_count": 4,
      "outputs": [
        {
          "output_type": "stream",
          "name": "stdout",
          "text": [
            "   kucing kelabu nenek tua berambut abu - abu\n"
          ]
        }
      ]
    },
    {
      "cell_type": "code",
      "source": [
        "from nltk.tokenize import word_tokenize\n",
        "import nltk\n",
        "\n",
        "nltk.download('punkt_tab')\n",
        "\n",
        "def tokenize(text):\n",
        "    return word_tokenize(text)\n",
        "\n",
        "# Contoh penggunaan\n",
        "sample_text = \"Ular melingkar dipagar berputar - putar\"\n",
        "print(tokenize(sample_text))\n"
      ],
      "metadata": {
        "colab": {
          "base_uri": "https://localhost:8080/"
        },
        "id": "_cJIwqE-dc1A",
        "outputId": "bb36f0f9-e8f9-4f41-ad67-ec5b4d25033f"
      },
      "execution_count": 6,
      "outputs": [
        {
          "output_type": "stream",
          "name": "stdout",
          "text": [
            "['Ular', 'melingkar', 'dipagar', 'berputar', '-', 'putar']\n"
          ]
        },
        {
          "output_type": "stream",
          "name": "stderr",
          "text": [
            "[nltk_data] Downloading package punkt_tab to /root/nltk_data...\n",
            "[nltk_data]   Package punkt_tab is already up-to-date!\n"
          ]
        }
      ]
    },
    {
      "cell_type": "code",
      "source": [
        "from nltk.corpus import stopwords\n",
        "\n",
        "nltk.download('stopwords')\n",
        "\n",
        "def remove_stopwords(words):\n",
        "    stop_words = set(stopwords.words('english'))\n",
        "    return [word for word in words if word not in stop_words]\n",
        "\n",
        "# Contoh penggunaan\n",
        "sample_text = \"Duh lagi mental health nich which is butuh healing\"\n",
        "tokenized_text = tokenize(sample_text)\n",
        "print(remove_stopwords(tokenized_text))\n"
      ],
      "metadata": {
        "colab": {
          "base_uri": "https://localhost:8080/"
        },
        "id": "gcbsxqv8etEQ",
        "outputId": "8090729e-f2d7-4328-9ac3-cc9f34f048ec"
      },
      "execution_count": 7,
      "outputs": [
        {
          "output_type": "stream",
          "name": "stdout",
          "text": [
            "['Duh', 'lagi', 'mental', 'health', 'nich', 'butuh', 'healing']\n"
          ]
        },
        {
          "output_type": "stream",
          "name": "stderr",
          "text": [
            "[nltk_data] Downloading package stopwords to /root/nltk_data...\n",
            "[nltk_data]   Unzipping corpora/stopwords.zip.\n"
          ]
        }
      ]
    },
    {
      "cell_type": "code",
      "source": [
        "from nltk.stem import PorterStemmer\n",
        "\n",
        "def stem_words(words):\n",
        "    ps = PorterStemmer()\n",
        "    return [ps.stem(word) for word in words]\n",
        "\n",
        "# Contoh penggunaan\n",
        "sample_text = \"Aku membutuhkan medkit,so thx\"\n",
        "tokenized_text = tokenize(sample_text)\n",
        "filtered_words = remove_stopwords(tokenized_text)\n",
        "print(stem_words(filtered_words))\n"
      ],
      "metadata": {
        "id": "uBkU5DCgfOZc",
        "outputId": "772a2338-c418-4485-bba0-aad17389613e",
        "colab": {
          "base_uri": "https://localhost:8080/"
        }
      },
      "execution_count": 11,
      "outputs": [
        {
          "output_type": "stream",
          "name": "stdout",
          "text": [
            "['aku', 'membutuhkan', 'medkit', ',', 'thx']\n"
          ]
        }
      ]
    },
    {
      "cell_type": "code",
      "source": [
        "sentence1 = \"Sara sarang diskriminasi\"\n",
        "sentence2 = \"Orang kulit hitam mendapat diskriminasi di Amerika\"\n",
        "sentence3 = \"Di amerika orang kulit hitam mengadakan black lives matter\""
      ],
      "metadata": {
        "id": "m8n5VQsUgWXp"
      },
      "execution_count": 13,
      "outputs": []
    },
    {
      "cell_type": "code",
      "source": [
        "import pandas as pd\n",
        "from sklearn.feature_extraction.text import CountVectorizer\n",
        "docs = [sentence1, sentence2, sentence3]\n",
        "print(docs)"
      ],
      "metadata": {
        "colab": {
          "base_uri": "https://localhost:8080/"
        },
        "id": "tcb96JN0goyX",
        "outputId": "3efa6ff7-0834-486a-ef01-5bd2d2bb4bec"
      },
      "execution_count": 14,
      "outputs": [
        {
          "output_type": "stream",
          "name": "stdout",
          "text": [
            "['Sara sarang diskriminasi', 'Orang kulit hitam mendapat diskriminasi di Amerika', 'Di amerika orang kulit hitam mengadakan black lives matter']\n"
          ]
        }
      ]
    },
    {
      "cell_type": "code",
      "source": [
        "#Mendefinisikan dan menyesuaikan count vectorizer pada dokumen.\n",
        "\n",
        "vec = CountVectorizer()\n",
        "X = vec.fit_transform(docs)\n",
        "#Mengonversi vektor pada DataFrame menggunakan pandas\n",
        "\n",
        "df = pd.DataFrame(X.toarray(),\n",
        "    columns=vec.get_feature_names_out())\n",
        "df.head()"
      ],
      "metadata": {
        "colab": {
          "base_uri": "https://localhost:8080/",
          "height": 144
        },
        "id": "qncwNZRXg1l1",
        "outputId": "4a541209-fb2f-4844-dc1f-6f30e46dfc97"
      },
      "execution_count": 15,
      "outputs": [
        {
          "output_type": "execute_result",
          "data": {
            "text/plain": [
              "   amerika  black  di  diskriminasi  hitam  kulit  lives  matter  mendapat  \\\n",
              "0        0      0   0             1      0      0      0       0         0   \n",
              "1        1      0   1             1      1      1      0       0         1   \n",
              "2        1      1   1             0      1      1      1       1         0   \n",
              "\n",
              "   mengadakan  orang  sara  sarang  \n",
              "0           0      0     1       1  \n",
              "1           0      1     0       0  \n",
              "2           1      1     0       0  "
            ],
            "text/html": [
              "\n",
              "  <div id=\"df-b35e02b5-586b-4c71-b211-be1ea8ddd15a\" class=\"colab-df-container\">\n",
              "    <div>\n",
              "<style scoped>\n",
              "    .dataframe tbody tr th:only-of-type {\n",
              "        vertical-align: middle;\n",
              "    }\n",
              "\n",
              "    .dataframe tbody tr th {\n",
              "        vertical-align: top;\n",
              "    }\n",
              "\n",
              "    .dataframe thead th {\n",
              "        text-align: right;\n",
              "    }\n",
              "</style>\n",
              "<table border=\"1\" class=\"dataframe\">\n",
              "  <thead>\n",
              "    <tr style=\"text-align: right;\">\n",
              "      <th></th>\n",
              "      <th>amerika</th>\n",
              "      <th>black</th>\n",
              "      <th>di</th>\n",
              "      <th>diskriminasi</th>\n",
              "      <th>hitam</th>\n",
              "      <th>kulit</th>\n",
              "      <th>lives</th>\n",
              "      <th>matter</th>\n",
              "      <th>mendapat</th>\n",
              "      <th>mengadakan</th>\n",
              "      <th>orang</th>\n",
              "      <th>sara</th>\n",
              "      <th>sarang</th>\n",
              "    </tr>\n",
              "  </thead>\n",
              "  <tbody>\n",
              "    <tr>\n",
              "      <th>0</th>\n",
              "      <td>0</td>\n",
              "      <td>0</td>\n",
              "      <td>0</td>\n",
              "      <td>1</td>\n",
              "      <td>0</td>\n",
              "      <td>0</td>\n",
              "      <td>0</td>\n",
              "      <td>0</td>\n",
              "      <td>0</td>\n",
              "      <td>0</td>\n",
              "      <td>0</td>\n",
              "      <td>1</td>\n",
              "      <td>1</td>\n",
              "    </tr>\n",
              "    <tr>\n",
              "      <th>1</th>\n",
              "      <td>1</td>\n",
              "      <td>0</td>\n",
              "      <td>1</td>\n",
              "      <td>1</td>\n",
              "      <td>1</td>\n",
              "      <td>1</td>\n",
              "      <td>0</td>\n",
              "      <td>0</td>\n",
              "      <td>1</td>\n",
              "      <td>0</td>\n",
              "      <td>1</td>\n",
              "      <td>0</td>\n",
              "      <td>0</td>\n",
              "    </tr>\n",
              "    <tr>\n",
              "      <th>2</th>\n",
              "      <td>1</td>\n",
              "      <td>1</td>\n",
              "      <td>1</td>\n",
              "      <td>0</td>\n",
              "      <td>1</td>\n",
              "      <td>1</td>\n",
              "      <td>1</td>\n",
              "      <td>1</td>\n",
              "      <td>0</td>\n",
              "      <td>1</td>\n",
              "      <td>1</td>\n",
              "      <td>0</td>\n",
              "      <td>0</td>\n",
              "    </tr>\n",
              "  </tbody>\n",
              "</table>\n",
              "</div>\n",
              "    <div class=\"colab-df-buttons\">\n",
              "\n",
              "  <div class=\"colab-df-container\">\n",
              "    <button class=\"colab-df-convert\" onclick=\"convertToInteractive('df-b35e02b5-586b-4c71-b211-be1ea8ddd15a')\"\n",
              "            title=\"Convert this dataframe to an interactive table.\"\n",
              "            style=\"display:none;\">\n",
              "\n",
              "  <svg xmlns=\"http://www.w3.org/2000/svg\" height=\"24px\" viewBox=\"0 -960 960 960\">\n",
              "    <path d=\"M120-120v-720h720v720H120Zm60-500h600v-160H180v160Zm220 220h160v-160H400v160Zm0 220h160v-160H400v160ZM180-400h160v-160H180v160Zm440 0h160v-160H620v160ZM180-180h160v-160H180v160Zm440 0h160v-160H620v160Z\"/>\n",
              "  </svg>\n",
              "    </button>\n",
              "\n",
              "  <style>\n",
              "    .colab-df-container {\n",
              "      display:flex;\n",
              "      gap: 12px;\n",
              "    }\n",
              "\n",
              "    .colab-df-convert {\n",
              "      background-color: #E8F0FE;\n",
              "      border: none;\n",
              "      border-radius: 50%;\n",
              "      cursor: pointer;\n",
              "      display: none;\n",
              "      fill: #1967D2;\n",
              "      height: 32px;\n",
              "      padding: 0 0 0 0;\n",
              "      width: 32px;\n",
              "    }\n",
              "\n",
              "    .colab-df-convert:hover {\n",
              "      background-color: #E2EBFA;\n",
              "      box-shadow: 0px 1px 2px rgba(60, 64, 67, 0.3), 0px 1px 3px 1px rgba(60, 64, 67, 0.15);\n",
              "      fill: #174EA6;\n",
              "    }\n",
              "\n",
              "    .colab-df-buttons div {\n",
              "      margin-bottom: 4px;\n",
              "    }\n",
              "\n",
              "    [theme=dark] .colab-df-convert {\n",
              "      background-color: #3B4455;\n",
              "      fill: #D2E3FC;\n",
              "    }\n",
              "\n",
              "    [theme=dark] .colab-df-convert:hover {\n",
              "      background-color: #434B5C;\n",
              "      box-shadow: 0px 1px 3px 1px rgba(0, 0, 0, 0.15);\n",
              "      filter: drop-shadow(0px 1px 2px rgba(0, 0, 0, 0.3));\n",
              "      fill: #FFFFFF;\n",
              "    }\n",
              "  </style>\n",
              "\n",
              "    <script>\n",
              "      const buttonEl =\n",
              "        document.querySelector('#df-b35e02b5-586b-4c71-b211-be1ea8ddd15a button.colab-df-convert');\n",
              "      buttonEl.style.display =\n",
              "        google.colab.kernel.accessAllowed ? 'block' : 'none';\n",
              "\n",
              "      async function convertToInteractive(key) {\n",
              "        const element = document.querySelector('#df-b35e02b5-586b-4c71-b211-be1ea8ddd15a');\n",
              "        const dataTable =\n",
              "          await google.colab.kernel.invokeFunction('convertToInteractive',\n",
              "                                                    [key], {});\n",
              "        if (!dataTable) return;\n",
              "\n",
              "        const docLinkHtml = 'Like what you see? Visit the ' +\n",
              "          '<a target=\"_blank\" href=https://colab.research.google.com/notebooks/data_table.ipynb>data table notebook</a>'\n",
              "          + ' to learn more about interactive tables.';\n",
              "        element.innerHTML = '';\n",
              "        dataTable['output_type'] = 'display_data';\n",
              "        await google.colab.output.renderOutput(dataTable, element);\n",
              "        const docLink = document.createElement('div');\n",
              "        docLink.innerHTML = docLinkHtml;\n",
              "        element.appendChild(docLink);\n",
              "      }\n",
              "    </script>\n",
              "  </div>\n",
              "\n",
              "\n",
              "    <div id=\"df-fd8dbeac-b85d-4706-a590-4ba57be68b24\">\n",
              "      <button class=\"colab-df-quickchart\" onclick=\"quickchart('df-fd8dbeac-b85d-4706-a590-4ba57be68b24')\"\n",
              "                title=\"Suggest charts\"\n",
              "                style=\"display:none;\">\n",
              "\n",
              "<svg xmlns=\"http://www.w3.org/2000/svg\" height=\"24px\"viewBox=\"0 0 24 24\"\n",
              "     width=\"24px\">\n",
              "    <g>\n",
              "        <path d=\"M19 3H5c-1.1 0-2 .9-2 2v14c0 1.1.9 2 2 2h14c1.1 0 2-.9 2-2V5c0-1.1-.9-2-2-2zM9 17H7v-7h2v7zm4 0h-2V7h2v10zm4 0h-2v-4h2v4z\"/>\n",
              "    </g>\n",
              "</svg>\n",
              "      </button>\n",
              "\n",
              "<style>\n",
              "  .colab-df-quickchart {\n",
              "      --bg-color: #E8F0FE;\n",
              "      --fill-color: #1967D2;\n",
              "      --hover-bg-color: #E2EBFA;\n",
              "      --hover-fill-color: #174EA6;\n",
              "      --disabled-fill-color: #AAA;\n",
              "      --disabled-bg-color: #DDD;\n",
              "  }\n",
              "\n",
              "  [theme=dark] .colab-df-quickchart {\n",
              "      --bg-color: #3B4455;\n",
              "      --fill-color: #D2E3FC;\n",
              "      --hover-bg-color: #434B5C;\n",
              "      --hover-fill-color: #FFFFFF;\n",
              "      --disabled-bg-color: #3B4455;\n",
              "      --disabled-fill-color: #666;\n",
              "  }\n",
              "\n",
              "  .colab-df-quickchart {\n",
              "    background-color: var(--bg-color);\n",
              "    border: none;\n",
              "    border-radius: 50%;\n",
              "    cursor: pointer;\n",
              "    display: none;\n",
              "    fill: var(--fill-color);\n",
              "    height: 32px;\n",
              "    padding: 0;\n",
              "    width: 32px;\n",
              "  }\n",
              "\n",
              "  .colab-df-quickchart:hover {\n",
              "    background-color: var(--hover-bg-color);\n",
              "    box-shadow: 0 1px 2px rgba(60, 64, 67, 0.3), 0 1px 3px 1px rgba(60, 64, 67, 0.15);\n",
              "    fill: var(--button-hover-fill-color);\n",
              "  }\n",
              "\n",
              "  .colab-df-quickchart-complete:disabled,\n",
              "  .colab-df-quickchart-complete:disabled:hover {\n",
              "    background-color: var(--disabled-bg-color);\n",
              "    fill: var(--disabled-fill-color);\n",
              "    box-shadow: none;\n",
              "  }\n",
              "\n",
              "  .colab-df-spinner {\n",
              "    border: 2px solid var(--fill-color);\n",
              "    border-color: transparent;\n",
              "    border-bottom-color: var(--fill-color);\n",
              "    animation:\n",
              "      spin 1s steps(1) infinite;\n",
              "  }\n",
              "\n",
              "  @keyframes spin {\n",
              "    0% {\n",
              "      border-color: transparent;\n",
              "      border-bottom-color: var(--fill-color);\n",
              "      border-left-color: var(--fill-color);\n",
              "    }\n",
              "    20% {\n",
              "      border-color: transparent;\n",
              "      border-left-color: var(--fill-color);\n",
              "      border-top-color: var(--fill-color);\n",
              "    }\n",
              "    30% {\n",
              "      border-color: transparent;\n",
              "      border-left-color: var(--fill-color);\n",
              "      border-top-color: var(--fill-color);\n",
              "      border-right-color: var(--fill-color);\n",
              "    }\n",
              "    40% {\n",
              "      border-color: transparent;\n",
              "      border-right-color: var(--fill-color);\n",
              "      border-top-color: var(--fill-color);\n",
              "    }\n",
              "    60% {\n",
              "      border-color: transparent;\n",
              "      border-right-color: var(--fill-color);\n",
              "    }\n",
              "    80% {\n",
              "      border-color: transparent;\n",
              "      border-right-color: var(--fill-color);\n",
              "      border-bottom-color: var(--fill-color);\n",
              "    }\n",
              "    90% {\n",
              "      border-color: transparent;\n",
              "      border-bottom-color: var(--fill-color);\n",
              "    }\n",
              "  }\n",
              "</style>\n",
              "\n",
              "      <script>\n",
              "        async function quickchart(key) {\n",
              "          const quickchartButtonEl =\n",
              "            document.querySelector('#' + key + ' button');\n",
              "          quickchartButtonEl.disabled = true;  // To prevent multiple clicks.\n",
              "          quickchartButtonEl.classList.add('colab-df-spinner');\n",
              "          try {\n",
              "            const charts = await google.colab.kernel.invokeFunction(\n",
              "                'suggestCharts', [key], {});\n",
              "          } catch (error) {\n",
              "            console.error('Error during call to suggestCharts:', error);\n",
              "          }\n",
              "          quickchartButtonEl.classList.remove('colab-df-spinner');\n",
              "          quickchartButtonEl.classList.add('colab-df-quickchart-complete');\n",
              "        }\n",
              "        (() => {\n",
              "          let quickchartButtonEl =\n",
              "            document.querySelector('#df-fd8dbeac-b85d-4706-a590-4ba57be68b24 button');\n",
              "          quickchartButtonEl.style.display =\n",
              "            google.colab.kernel.accessAllowed ? 'block' : 'none';\n",
              "        })();\n",
              "      </script>\n",
              "    </div>\n",
              "\n",
              "    </div>\n",
              "  </div>\n"
            ],
            "application/vnd.google.colaboratory.intrinsic+json": {
              "type": "dataframe",
              "variable_name": "df",
              "summary": "{\n  \"name\": \"df\",\n  \"rows\": 3,\n  \"fields\": [\n    {\n      \"column\": \"amerika\",\n      \"properties\": {\n        \"dtype\": \"number\",\n        \"std\": 0,\n        \"min\": 0,\n        \"max\": 1,\n        \"num_unique_values\": 2,\n        \"samples\": [\n          1,\n          0\n        ],\n        \"semantic_type\": \"\",\n        \"description\": \"\"\n      }\n    },\n    {\n      \"column\": \"black\",\n      \"properties\": {\n        \"dtype\": \"number\",\n        \"std\": 0,\n        \"min\": 0,\n        \"max\": 1,\n        \"num_unique_values\": 2,\n        \"samples\": [\n          1,\n          0\n        ],\n        \"semantic_type\": \"\",\n        \"description\": \"\"\n      }\n    },\n    {\n      \"column\": \"di\",\n      \"properties\": {\n        \"dtype\": \"number\",\n        \"std\": 0,\n        \"min\": 0,\n        \"max\": 1,\n        \"num_unique_values\": 2,\n        \"samples\": [\n          1,\n          0\n        ],\n        \"semantic_type\": \"\",\n        \"description\": \"\"\n      }\n    },\n    {\n      \"column\": \"diskriminasi\",\n      \"properties\": {\n        \"dtype\": \"number\",\n        \"std\": 0,\n        \"min\": 0,\n        \"max\": 1,\n        \"num_unique_values\": 2,\n        \"samples\": [\n          0,\n          1\n        ],\n        \"semantic_type\": \"\",\n        \"description\": \"\"\n      }\n    },\n    {\n      \"column\": \"hitam\",\n      \"properties\": {\n        \"dtype\": \"number\",\n        \"std\": 0,\n        \"min\": 0,\n        \"max\": 1,\n        \"num_unique_values\": 2,\n        \"samples\": [\n          1,\n          0\n        ],\n        \"semantic_type\": \"\",\n        \"description\": \"\"\n      }\n    },\n    {\n      \"column\": \"kulit\",\n      \"properties\": {\n        \"dtype\": \"number\",\n        \"std\": 0,\n        \"min\": 0,\n        \"max\": 1,\n        \"num_unique_values\": 2,\n        \"samples\": [\n          1,\n          0\n        ],\n        \"semantic_type\": \"\",\n        \"description\": \"\"\n      }\n    },\n    {\n      \"column\": \"lives\",\n      \"properties\": {\n        \"dtype\": \"number\",\n        \"std\": 0,\n        \"min\": 0,\n        \"max\": 1,\n        \"num_unique_values\": 2,\n        \"samples\": [\n          1,\n          0\n        ],\n        \"semantic_type\": \"\",\n        \"description\": \"\"\n      }\n    },\n    {\n      \"column\": \"matter\",\n      \"properties\": {\n        \"dtype\": \"number\",\n        \"std\": 0,\n        \"min\": 0,\n        \"max\": 1,\n        \"num_unique_values\": 2,\n        \"samples\": [\n          1,\n          0\n        ],\n        \"semantic_type\": \"\",\n        \"description\": \"\"\n      }\n    },\n    {\n      \"column\": \"mendapat\",\n      \"properties\": {\n        \"dtype\": \"number\",\n        \"std\": 0,\n        \"min\": 0,\n        \"max\": 1,\n        \"num_unique_values\": 2,\n        \"samples\": [\n          1,\n          0\n        ],\n        \"semantic_type\": \"\",\n        \"description\": \"\"\n      }\n    },\n    {\n      \"column\": \"mengadakan\",\n      \"properties\": {\n        \"dtype\": \"number\",\n        \"std\": 0,\n        \"min\": 0,\n        \"max\": 1,\n        \"num_unique_values\": 2,\n        \"samples\": [\n          1,\n          0\n        ],\n        \"semantic_type\": \"\",\n        \"description\": \"\"\n      }\n    },\n    {\n      \"column\": \"orang\",\n      \"properties\": {\n        \"dtype\": \"number\",\n        \"std\": 0,\n        \"min\": 0,\n        \"max\": 1,\n        \"num_unique_values\": 2,\n        \"samples\": [\n          1,\n          0\n        ],\n        \"semantic_type\": \"\",\n        \"description\": \"\"\n      }\n    },\n    {\n      \"column\": \"sara\",\n      \"properties\": {\n        \"dtype\": \"number\",\n        \"std\": 0,\n        \"min\": 0,\n        \"max\": 1,\n        \"num_unique_values\": 2,\n        \"samples\": [\n          0,\n          1\n        ],\n        \"semantic_type\": \"\",\n        \"description\": \"\"\n      }\n    },\n    {\n      \"column\": \"sarang\",\n      \"properties\": {\n        \"dtype\": \"number\",\n        \"std\": 0,\n        \"min\": 0,\n        \"max\": 1,\n        \"num_unique_values\": 2,\n        \"samples\": [\n          0,\n          1\n        ],\n        \"semantic_type\": \"\",\n        \"description\": \"\"\n      }\n    }\n  ]\n}"
            }
          },
          "metadata": {},
          "execution_count": 15
        }
      ]
    },
    {
      "cell_type": "code",
      "source": [
        "import numpy as np\n",
        "from collections import Counter\n",
        "from math import log\n",
        "\n",
        "# Tiga dokumen dalam korpus\n",
        "documents = [\n",
        "    \"Hera menghancurkan Asgard\",\n",
        "    \"Thor menciptakan ragnarok untuk mencegah Hera menghancurkan Asgard\"\n",
        "    ]\n",
        "\n",
        "# Preprocessing: Lowercasing and tokenizing\n",
        "tokenized_documents = [doc.lower().split() for doc in documents]\n",
        "\n",
        "# Menghitung TF\n",
        "def compute_tf(tokenized_doc):\n",
        "    tf_dict = {}\n",
        "    term_count = Counter(tokenized_doc)\n",
        "    total_terms = len(tokenized_doc)\n",
        "    for term, count in term_count.items():\n",
        "        tf_dict[term] = count / total_terms\n",
        "    return tf_dict\n",
        "\n",
        "tf_list = [compute_tf(doc) for doc in tokenized_documents]\n",
        "\n",
        "print(\"Term Frequency (TF):\")\n",
        "for idx, tf in enumerate(tf_list):\n",
        "    print(f\"Document {idx + 1} TF:\")\n",
        "    for term, score in tf.items():\n",
        "        print(f\"    {term}: {score:.4f}\")\n"
      ],
      "metadata": {
        "colab": {
          "base_uri": "https://localhost:8080/"
        },
        "id": "nN06ffX_M49M",
        "outputId": "69b48c6a-b85c-4214-d4d8-0fb26f55541c"
      },
      "execution_count": 16,
      "outputs": [
        {
          "output_type": "stream",
          "name": "stdout",
          "text": [
            "Term Frequency (TF):\n",
            "Document 1 TF:\n",
            "    hera: 0.3333\n",
            "    menghancurkan: 0.3333\n",
            "    asgard: 0.3333\n",
            "Document 2 TF:\n",
            "    thor: 0.1250\n",
            "    menciptakan: 0.1250\n",
            "    ragnarok: 0.1250\n",
            "    untuk: 0.1250\n",
            "    mencegah: 0.1250\n",
            "    hera: 0.1250\n",
            "    menghancurkan: 0.1250\n",
            "    asgard: 0.1250\n"
          ]
        }
      ]
    },
    {
      "cell_type": "code",
      "source": [
        "# Menghitung IDF\n",
        "def compute_idf(tokenized_docs):\n",
        "    idf_dict = {}\n",
        "    total_docs = len(tokenized_docs)\n",
        "    all_terms = set(term for doc in tokenized_docs for term in doc)\n",
        "    for term in all_terms:\n",
        "        doc_containing_term = sum(1 for doc in tokenized_docs if term in doc)\n",
        "        idf_dict[term] = log(total_docs / (1 + doc_containing_term)) + 1\n",
        "    return idf_dict\n",
        "\n",
        "idf_dict = compute_idf(tokenized_documents)\n",
        "\n",
        "print(\"\\nInverse Document Frequency (IDF):\")\n",
        "for term, score in idf_dict.items():\n",
        "    print(f\"    {term}: {score:.4f}\")\n"
      ],
      "metadata": {
        "colab": {
          "base_uri": "https://localhost:8080/"
        },
        "id": "MGpZKYNgO-Ed",
        "outputId": "83126e59-1230-4a61-9527-1868e754fa8b"
      },
      "execution_count": 17,
      "outputs": [
        {
          "output_type": "stream",
          "name": "stdout",
          "text": [
            "\n",
            "Inverse Document Frequency (IDF):\n",
            "    asgard: 0.5945\n",
            "    menghancurkan: 0.5945\n",
            "    menciptakan: 1.0000\n",
            "    ragnarok: 1.0000\n",
            "    mencegah: 1.0000\n",
            "    hera: 0.5945\n",
            "    untuk: 1.0000\n",
            "    thor: 1.0000\n"
          ]
        }
      ]
    },
    {
      "cell_type": "code",
      "source": [
        "# Menghitung TF-IDF\n",
        "def compute_tfidf(tf_list, idf_dict):\n",
        "    tfidf_list = []\n",
        "    for tf in tf_list:\n",
        "        tfidf_dict = {}\n",
        "        for term, tf_value in tf.items():\n",
        "            tfidf_dict[term] = tf_value * idf_dict.get(term, 0)\n",
        "        tfidf_list.append(tfidf_dict)\n",
        "    return tfidf_list\n",
        "\n",
        "tfidf_list = compute_tfidf(tf_list, idf_dict)\n",
        "\n",
        "print(\"\\nTF-IDF:\")\n",
        "for idx, tfidf in enumerate(tfidf_list):\n",
        "    print(f\"Document {idx + 1} TF-IDF:\")\n",
        "    for term, score in tfidf.items():\n",
        "        print(f\"    {term}: {score:.4f}\")"
      ],
      "metadata": {
        "colab": {
          "base_uri": "https://localhost:8080/"
        },
        "id": "w36ZT0myY6-a",
        "outputId": "c1f680a1-4697-40c5-e86c-f0fc32eb2ea4"
      },
      "execution_count": 18,
      "outputs": [
        {
          "output_type": "stream",
          "name": "stdout",
          "text": [
            "\n",
            "TF-IDF:\n",
            "Document 1 TF-IDF:\n",
            "    hera: 0.1982\n",
            "    menghancurkan: 0.1982\n",
            "    asgard: 0.1982\n",
            "Document 2 TF-IDF:\n",
            "    thor: 0.1250\n",
            "    menciptakan: 0.1250\n",
            "    ragnarok: 0.1250\n",
            "    untuk: 0.1250\n",
            "    mencegah: 0.1250\n",
            "    hera: 0.0743\n",
            "    menghancurkan: 0.0743\n",
            "    asgard: 0.0743\n"
          ]
        }
      ]
    },
    {
      "cell_type": "code",
      "source": [
        "pip install --force-reinstall --no-cache-dir gensim"
      ],
      "metadata": {
        "colab": {
          "base_uri": "https://localhost:8080/",
          "height": 930
        },
        "id": "aqqro1ifEA1H",
        "outputId": "b1ef19df-566f-4a8c-b37d-23de21256819"
      },
      "execution_count": 21,
      "outputs": [
        {
          "output_type": "stream",
          "name": "stdout",
          "text": [
            "Collecting gensim\n",
            "  Downloading gensim-4.3.3-cp311-cp311-manylinux_2_17_x86_64.manylinux2014_x86_64.whl.metadata (8.1 kB)\n",
            "Collecting numpy<2.0,>=1.18.5 (from gensim)\n",
            "  Downloading numpy-1.26.4-cp311-cp311-manylinux_2_17_x86_64.manylinux2014_x86_64.whl.metadata (61 kB)\n",
            "\u001b[2K     \u001b[90m━━━━━━━━━━━━━━━━━━━━━━━━━━━━━━━━━━━━━━━━\u001b[0m \u001b[32m61.0/61.0 kB\u001b[0m \u001b[31m5.4 MB/s\u001b[0m eta \u001b[36m0:00:00\u001b[0m\n",
            "\u001b[?25hCollecting scipy<1.14.0,>=1.7.0 (from gensim)\n",
            "  Downloading scipy-1.13.1-cp311-cp311-manylinux_2_17_x86_64.manylinux2014_x86_64.whl.metadata (60 kB)\n",
            "\u001b[2K     \u001b[90m━━━━━━━━━━━━━━━━━━━━━━━━━━━━━━━━━━━━━━━\u001b[0m \u001b[32m60.6/60.6 kB\u001b[0m \u001b[31m100.2 MB/s\u001b[0m eta \u001b[36m0:00:00\u001b[0m\n",
            "\u001b[?25hCollecting smart-open>=1.8.1 (from gensim)\n",
            "  Downloading smart_open-7.1.0-py3-none-any.whl.metadata (24 kB)\n",
            "Collecting wrapt (from smart-open>=1.8.1->gensim)\n",
            "  Downloading wrapt-1.17.2-cp311-cp311-manylinux_2_5_x86_64.manylinux1_x86_64.manylinux_2_17_x86_64.manylinux2014_x86_64.whl.metadata (6.4 kB)\n",
            "Downloading gensim-4.3.3-cp311-cp311-manylinux_2_17_x86_64.manylinux2014_x86_64.whl (26.7 MB)\n",
            "\u001b[2K   \u001b[90m━━━━━━━━━━━━━━━━━━━━━━━━━━━━━━━━━━━━━━━━\u001b[0m \u001b[32m26.7/26.7 MB\u001b[0m \u001b[31m262.3 MB/s\u001b[0m eta \u001b[36m0:00:00\u001b[0m\n",
            "\u001b[?25hDownloading numpy-1.26.4-cp311-cp311-manylinux_2_17_x86_64.manylinux2014_x86_64.whl (18.3 MB)\n",
            "\u001b[2K   \u001b[90m━━━━━━━━━━━━━━━━━━━━━━━━━━━━━━━━━━━━━━━━\u001b[0m \u001b[32m18.3/18.3 MB\u001b[0m \u001b[31m263.0 MB/s\u001b[0m eta \u001b[36m0:00:00\u001b[0m\n",
            "\u001b[?25hDownloading scipy-1.13.1-cp311-cp311-manylinux_2_17_x86_64.manylinux2014_x86_64.whl (38.6 MB)\n",
            "\u001b[2K   \u001b[90m━━━━━━━━━━━━━━━━━━━━━━━━━━━━━━━━━━━━━━━━\u001b[0m \u001b[32m38.6/38.6 MB\u001b[0m \u001b[31m214.4 MB/s\u001b[0m eta \u001b[36m0:00:00\u001b[0m\n",
            "\u001b[?25hDownloading smart_open-7.1.0-py3-none-any.whl (61 kB)\n",
            "\u001b[2K   \u001b[90m━━━━━━━━━━━━━━━━━━━━━━━━━━━━━━━━━━━━━━━━\u001b[0m \u001b[32m61.7/61.7 kB\u001b[0m \u001b[31m188.4 MB/s\u001b[0m eta \u001b[36m0:00:00\u001b[0m\n",
            "\u001b[?25hDownloading wrapt-1.17.2-cp311-cp311-manylinux_2_5_x86_64.manylinux1_x86_64.manylinux_2_17_x86_64.manylinux2014_x86_64.whl (83 kB)\n",
            "\u001b[2K   \u001b[90m━━━━━━━━━━━━━━━━━━━━━━━━━━━━━━━━━━━━━━━━\u001b[0m \u001b[32m83.2/83.2 kB\u001b[0m \u001b[31m112.9 MB/s\u001b[0m eta \u001b[36m0:00:00\u001b[0m\n",
            "\u001b[?25hInstalling collected packages: wrapt, numpy, smart-open, scipy, gensim\n",
            "  Attempting uninstall: wrapt\n",
            "    Found existing installation: wrapt 1.17.2\n",
            "    Uninstalling wrapt-1.17.2:\n",
            "      Successfully uninstalled wrapt-1.17.2\n",
            "  Attempting uninstall: numpy\n",
            "    Found existing installation: numpy 1.26.4\n",
            "    Uninstalling numpy-1.26.4:\n",
            "      Successfully uninstalled numpy-1.26.4\n",
            "  Attempting uninstall: smart-open\n",
            "    Found existing installation: smart-open 7.1.0\n",
            "    Uninstalling smart-open-7.1.0:\n",
            "      Successfully uninstalled smart-open-7.1.0\n",
            "  Attempting uninstall: scipy\n",
            "    Found existing installation: scipy 1.13.1\n",
            "    Uninstalling scipy-1.13.1:\n",
            "      Successfully uninstalled scipy-1.13.1\n",
            "  Attempting uninstall: gensim\n",
            "    Found existing installation: gensim 4.3.3\n",
            "    Uninstalling gensim-4.3.3:\n",
            "      Successfully uninstalled gensim-4.3.3\n",
            "\u001b[31mERROR: pip's dependency resolver does not currently take into account all the packages that are installed. This behaviour is the source of the following dependency conflicts.\n",
            "tsfresh 0.21.0 requires scipy>=1.14.0; python_version >= \"3.10\", but you have scipy 1.13.1 which is incompatible.\n",
            "thinc 8.3.6 requires numpy<3.0.0,>=2.0.0, but you have numpy 1.26.4 which is incompatible.\u001b[0m\u001b[31m\n",
            "\u001b[0mSuccessfully installed gensim-4.3.3 numpy-1.26.4 scipy-1.13.1 smart-open-7.1.0 wrapt-1.17.2\n"
          ]
        },
        {
          "output_type": "display_data",
          "data": {
            "application/vnd.colab-display-data+json": {
              "pip_warning": {
                "packages": [
                  "smart_open",
                  "wrapt"
                ]
              },
              "id": "14de61592b7444feb548917d1779226d"
            }
          },
          "metadata": {}
        }
      ]
    },
    {
      "cell_type": "code",
      "source": [
        "from gensim.models import Word2Vec\n",
        "import numpy as np\n",
        "\n",
        "corpus = [\n",
        "    'Iam the bones of my sword.',\n",
        "    'Steel is my body and fire is my blood.',\n",
        "    'I created over thousand blade.',\n",
        "    'Unknown to live and unknown to death',\n",
        "    'So as i pray unlimited blade works'\n",
        "]\n",
        "\n",
        "sentences = [doc.split() for doc in corpus]\n",
        "model = Word2Vec(sentences, vector_size=100, window=5, min_count=1, workers=4)\n",
        "\n",
        "def document_vector(doc):\n",
        "    return np.mean([model.wv[word] for word in doc.split() if word in model.wv], axis=0)\n",
        "\n",
        "doc_vectors = [document_vector(doc) for doc in corpus]\n",
        "print(doc_vectors)\n"
      ],
      "metadata": {
        "id": "g4KJeGi1jt-k",
        "outputId": "36c7b9ff-ba29-4052-8c15-99dadcb5af6e",
        "colab": {
          "base_uri": "https://localhost:8080/"
        }
      },
      "execution_count": 2,
      "outputs": [
        {
          "output_type": "stream",
          "name": "stdout",
          "text": [
            "[array([ 1.5627211e-03, -1.1602900e-03, -5.1071402e-06,  6.7668105e-03,\n",
            "       -2.5523729e-03, -4.8593534e-04,  4.6453779e-03,  1.1680244e-04,\n",
            "       -3.4880992e-03, -9.8174333e-04,  2.3950818e-03, -1.7119929e-03,\n",
            "        2.7487848e-03,  3.3323476e-03, -2.1294125e-03,  2.7878706e-03,\n",
            "        4.0636286e-03, -1.1773941e-03, -1.9629945e-03, -6.6884183e-03,\n",
            "        3.1574790e-03,  3.8410861e-03,  4.5802752e-03, -1.0814277e-03,\n",
            "        2.5968598e-03, -5.8973831e-04, -3.1036965e-03,  1.3388920e-03,\n",
            "       -2.1771721e-03, -1.2336334e-03,  2.8191637e-03,  2.3639072e-03,\n",
            "        4.5969966e-03, -1.1092502e-04, -4.3496639e-03,  1.7287437e-03,\n",
            "       -7.2378200e-05, -8.7980129e-04, -2.4487821e-03, -3.1367058e-03,\n",
            "        5.1215367e-05,  2.6666916e-03, -1.7266670e-04, -3.6295217e-03,\n",
            "        2.2928494e-03,  1.4156488e-03, -5.1053343e-03,  1.7396617e-04,\n",
            "        1.7904291e-03,  3.3844991e-03, -4.0396047e-03,  4.3493346e-04,\n",
            "       -1.9491910e-03, -2.6039252e-04,  1.0006939e-03, -3.2436412e-03,\n",
            "       -1.9000418e-03, -2.1204608e-03, -9.0630935e-04,  1.2050316e-03,\n",
            "        1.9443606e-04, -2.0493397e-03,  2.5173407e-03,  4.4993279e-04,\n",
            "       -4.2794277e-03,  4.1862615e-04, -5.6824260e-03,  2.2792847e-04,\n",
            "       -1.7759032e-03, -4.0263333e-04,  4.6616435e-04,  2.1144056e-03,\n",
            "        1.3600755e-03, -6.8955106e-04,  1.9738148e-04, -4.3681641e-03,\n",
            "        2.3558175e-03, -1.8645694e-03, -2.1841435e-03, -1.5222105e-03,\n",
            "        2.8392382e-04, -3.5231898e-03, -2.2207333e-03,  4.5332541e-03,\n",
            "       -1.1403001e-03, -2.7472868e-03,  3.1877644e-03, -1.1333859e-03,\n",
            "        3.0798838e-06,  1.5803206e-03, -2.3783969e-03,  1.9374475e-03,\n",
            "       -1.2206269e-03,  1.1716186e-03,  3.6149768e-03,  2.5332029e-04,\n",
            "       -2.8490585e-03, -2.3526328e-03,  4.3620281e-03,  2.2697842e-03],\n",
            "      dtype=float32), array([-2.3489285e-03,  3.1107874e-03,  3.4770151e-03,  1.2445692e-03,\n",
            "       -6.7698781e-04, -4.8140273e-03,  3.3436890e-04,  5.5160276e-03,\n",
            "       -1.4162315e-03, -5.1608542e-03,  2.8371513e-03, -1.8641076e-03,\n",
            "       -2.9955162e-03,  5.4994202e-04,  2.1349555e-03,  7.2447461e-04,\n",
            "        3.9771255e-03,  1.0676495e-03, -2.9715369e-03, -4.2937249e-03,\n",
            "        1.7020410e-03, -9.2353736e-04,  6.2830132e-03, -6.9628714e-04,\n",
            "        8.9594017e-04,  1.5053672e-03, -3.4458083e-03,  3.2185896e-03,\n",
            "       -7.0928701e-04,  2.8163481e-03, -1.6850419e-04, -1.5278150e-03,\n",
            "        3.2368898e-03, -2.7713741e-03,  1.6661483e-03,  2.9762217e-04,\n",
            "        2.8946211e-03, -7.0614502e-04, -1.5187412e-04,  1.1499808e-03,\n",
            "       -1.5802655e-03,  2.4597027e-04, -3.5171567e-03,  6.2285055e-04,\n",
            "       -2.1172448e-03, -9.7829395e-04,  1.2819001e-03,  6.9213420e-04,\n",
            "       -5.0589286e-05,  3.4822235e-03,  8.3384651e-04, -2.5029392e-03,\n",
            "       -2.7977056e-03,  1.6113905e-04,  6.0071831e-04,  6.5354299e-04,\n",
            "        2.8718354e-03,  1.5319758e-03,  9.2403655e-04,  5.0365562e-03,\n",
            "       -3.5231006e-03,  1.1716932e-03,  6.7611365e-04, -1.8362688e-03,\n",
            "       -4.1601734e-04,  2.3641223e-03,  3.3505070e-03,  1.3382668e-03,\n",
            "       -2.3102078e-04,  8.3321374e-04,  1.4961733e-03,  1.7380356e-03,\n",
            "        1.8385208e-04,  1.7701089e-03,  1.9468260e-03,  9.2093635e-04,\n",
            "       -2.2534654e-04, -3.1654350e-04, -1.1863803e-03, -2.7544450e-03,\n",
            "       -3.1926716e-03,  4.2498093e-03,  3.6431833e-03,  2.7899365e-03,\n",
            "       -1.7176903e-03,  5.2015431e-04,  2.9228134e-03, -2.6472413e-03,\n",
            "        6.8442384e-04, -3.7519364e-06,  2.3700902e-03, -1.0365729e-04,\n",
            "        9.1013894e-04, -1.9272456e-03,  2.5012249e-03,  5.9466477e-04,\n",
            "        1.9676043e-03, -3.5466014e-03, -2.2626275e-03,  2.6123014e-03],\n",
            "      dtype=float32), array([ 6.6306285e-04,  2.5493484e-03, -2.2614301e-04, -2.8801686e-03,\n",
            "        1.6509161e-03, -4.2062816e-03,  3.1657745e-03,  4.6958374e-03,\n",
            "       -2.4284006e-03, -3.6871259e-03, -1.8975409e-03, -6.0997386e-03,\n",
            "       -1.5496301e-03, -1.0504089e-03, -9.0334375e-05, -3.1074316e-03,\n",
            "        8.0372862e-05,  8.4726885e-04,  4.2819092e-03, -1.1822747e-03,\n",
            "        1.8341929e-03, -3.1284912e-04, -1.5684204e-03, -1.8494962e-03,\n",
            "       -3.5221507e-03, -1.1122937e-03, -1.8854946e-03, -7.1459933e-04,\n",
            "        3.7004233e-03, -1.9997584e-03, -2.7851574e-04, -2.9750448e-03,\n",
            "       -2.5894530e-03, -1.7859293e-03, -1.1811091e-03,  2.8131108e-03,\n",
            "        3.3479393e-03,  3.6710135e-03,  1.6128101e-03,  1.6115159e-04,\n",
            "        6.4518340e-03, -5.5079861e-03,  1.4775619e-03,  4.2423862e-03,\n",
            "        9.9898910e-04,  1.8517666e-03, -4.6076388e-03, -1.4686909e-03,\n",
            "        2.5658784e-03, -1.6436346e-03,  6.7255006e-04, -8.2919805e-04,\n",
            "        5.6037204e-03,  7.7015971e-04, -4.8565702e-04,  2.0307775e-03,\n",
            "        5.8602188e-03, -9.4253264e-05,  2.3570936e-03,  1.7476201e-03,\n",
            "       -3.0991892e-04, -1.3551966e-03,  1.7667521e-03,  9.8858436e-04,\n",
            "        3.1869304e-03,  2.6665875e-03,  5.8928365e-04,  4.0841466e-03,\n",
            "        4.6671421e-04, -2.1655795e-03, -4.1972715e-04, -2.7519236e-03,\n",
            "        6.0797455e-03,  2.4009761e-03,  4.3296190e-03,  2.6418970e-03,\n",
            "        8.9956186e-04,  2.9959942e-03, -1.5577619e-04,  3.9752590e-04,\n",
            "       -3.9669792e-03,  3.7388760e-04,  1.7397003e-03, -1.8038128e-03,\n",
            "        3.0024410e-03,  6.6592393e-04,  1.3429921e-03,  2.2734019e-03,\n",
            "        2.2861112e-03, -4.3379600e-04,  5.8523258e-03,  2.7237337e-03,\n",
            "        4.6792207e-04,  1.9911304e-05,  3.2240362e-03,  3.2216720e-03,\n",
            "        1.3510508e-03,  8.9029287e-04,  2.2707083e-03,  5.6358095e-04],\n",
            "      dtype=float32), array([ 1.7663810e-04,  4.6513504e-03, -3.4803216e-04,  4.2069196e-03,\n",
            "        9.0630044e-04,  3.1823702e-03, -4.9350824e-04,  1.4318671e-03,\n",
            "       -7.4720569e-04, -3.3189729e-04,  4.8199596e-04, -2.4399554e-04,\n",
            "        7.4047195e-03,  5.7084300e-04,  4.3936358e-03, -2.5885866e-03,\n",
            "        3.3064657e-03,  1.5086300e-03, -4.5129466e-03, -2.2653576e-04,\n",
            "       -2.0875421e-03, -5.1428704e-04, -3.6815186e-03,  1.2482513e-03,\n",
            "        7.8463793e-04,  1.0327639e-03,  1.5781019e-03,  1.8068615e-03,\n",
            "       -1.2870545e-04,  1.9575469e-03,  1.0423189e-03, -4.7111474e-03,\n",
            "       -2.7238317e-03, -2.5655166e-03, -2.7896687e-03,  2.2005595e-03,\n",
            "        1.3835219e-03, -1.1137504e-03, -2.6460961e-03,  1.2588131e-03,\n",
            "       -1.3086013e-04,  1.9206839e-03, -7.5689499e-04,  2.9504821e-03,\n",
            "        9.9791279e-05, -9.0717076e-04, -2.6374485e-04, -3.5361531e-03,\n",
            "       -2.4304448e-03, -5.8214151e-04,  2.8380305e-03, -2.2431898e-03,\n",
            "       -7.1362876e-03, -3.2809111e-03, -4.1434141e-03,  4.3926793e-04,\n",
            "        2.9642467e-04, -1.0279894e-03, -1.9221160e-03, -3.6331976e-03,\n",
            "       -7.1582256e-04,  2.9199696e-04,  3.6967755e-03,  7.3873147e-04,\n",
            "       -1.8524727e-03,  4.5382590e-03,  1.4467436e-03,  2.0486515e-03,\n",
            "       -3.4975079e-03,  3.0096606e-04,  1.8193804e-03,  2.3959908e-03,\n",
            "        3.5273709e-04, -2.3794048e-04, -1.8153930e-03,  3.2604395e-03,\n",
            "        2.0890683e-03,  4.1757389e-03, -1.6204783e-03,  1.9973330e-03,\n",
            "       -4.0807398e-03, -1.7503196e-03,  6.1989529e-04, -7.9726992e-04,\n",
            "       -1.2606678e-03, -1.8463990e-04,  1.4809264e-03, -2.5984384e-03,\n",
            "        1.7365015e-03, -4.8415861e-04, -1.7698322e-03,  8.2888559e-04,\n",
            "        2.1104662e-04,  9.9987315e-04,  2.6913327e-03, -1.7646996e-03,\n",
            "        8.1894937e-04,  1.1945294e-03,  5.9082656e-04, -7.9100551e-05],\n",
            "      dtype=float32), array([-1.21619448e-03, -7.37813825e-04, -1.02284765e-04, -1.31148438e-03,\n",
            "        7.87956000e-04,  3.74502561e-04,  9.99362557e-04,  1.99329550e-03,\n",
            "       -8.26459960e-04,  2.00845441e-03, -3.31334840e-03,  7.41793890e-04,\n",
            "       -1.81736238e-03,  2.48888670e-03, -4.66612959e-03,  1.61907508e-03,\n",
            "        2.41594389e-03, -1.60836018e-04, -9.70662164e-04, -4.17573610e-03,\n",
            "        7.40601507e-04,  7.71403604e-04,  1.18636328e-03, -1.00636055e-06,\n",
            "       -4.73750615e-03,  4.72643624e-05, -1.80051441e-03, -1.33541541e-03,\n",
            "       -1.40759244e-03,  6.71784510e-04,  6.06974214e-03,  1.38712843e-04,\n",
            "       -2.30390206e-03, -3.18443985e-03,  7.30991946e-04, -1.45675219e-03,\n",
            "        1.99046289e-03,  7.34929286e-04, -1.94461187e-04, -1.57445425e-03,\n",
            "        6.07020513e-04, -3.08848731e-03, -9.09100461e-04, -1.04868470e-03,\n",
            "        1.54893345e-03, -4.29237029e-03, -3.30008595e-04, -2.61637405e-03,\n",
            "        4.14224574e-03, -5.35118219e-04,  8.92217737e-04, -2.75544618e-04,\n",
            "        2.19680602e-03,  3.40532366e-04,  4.69527993e-04,  2.06536986e-03,\n",
            "        9.49501991e-05, -8.61047884e-04, -2.27741199e-03, -8.36256077e-04,\n",
            "        1.92299054e-03, -2.76936428e-03,  1.08570524e-03,  2.23966176e-03,\n",
            "       -9.62608377e-04,  1.80086342e-03,  1.73927285e-04, -1.88211969e-03,\n",
            "       -1.44329737e-03,  3.53868748e-03, -1.29857869e-03,  1.32493806e-04,\n",
            "       -9.26985289e-04, -2.11771904e-03,  9.78281838e-04, -3.34780989e-03,\n",
            "        8.81043263e-04,  2.09580315e-03,  1.76504417e-03, -8.89643212e-04,\n",
            "       -1.06218667e-05, -4.48848645e-04, -8.54513433e-04,  1.93420681e-03,\n",
            "       -1.09842257e-03, -2.38749222e-03, -2.10730708e-03,  4.08379827e-03,\n",
            "       -1.54252665e-03,  1.43336505e-03,  2.75326171e-03, -3.23292916e-03,\n",
            "        2.60302913e-03, -3.73994443e-03, -1.26415398e-03, -2.22868053e-03,\n",
            "        2.28854292e-03,  1.92432397e-03, -1.24768971e-03,  1.55252509e-03],\n",
            "      dtype=float32)]\n"
          ]
        }
      ]
    },
    {
      "cell_type": "code",
      "source": [
        "!pip install numpy pandas scikit-learn\n"
      ],
      "metadata": {
        "colab": {
          "base_uri": "https://localhost:8080/"
        },
        "id": "ohgoXHT4v5Nn",
        "outputId": "bb1175f3-dbd9-4338-e9c2-2658d12f655f"
      },
      "execution_count": 3,
      "outputs": [
        {
          "output_type": "stream",
          "name": "stdout",
          "text": [
            "Requirement already satisfied: numpy in /usr/local/lib/python3.11/dist-packages (1.26.4)\n",
            "Requirement already satisfied: pandas in /usr/local/lib/python3.11/dist-packages (2.2.2)\n",
            "Requirement already satisfied: scikit-learn in /usr/local/lib/python3.11/dist-packages (1.6.1)\n",
            "Requirement already satisfied: python-dateutil>=2.8.2 in /usr/local/lib/python3.11/dist-packages (from pandas) (2.9.0.post0)\n",
            "Requirement already satisfied: pytz>=2020.1 in /usr/local/lib/python3.11/dist-packages (from pandas) (2025.2)\n",
            "Requirement already satisfied: tzdata>=2022.7 in /usr/local/lib/python3.11/dist-packages (from pandas) (2025.2)\n",
            "Requirement already satisfied: scipy>=1.6.0 in /usr/local/lib/python3.11/dist-packages (from scikit-learn) (1.13.1)\n",
            "Requirement already satisfied: joblib>=1.2.0 in /usr/local/lib/python3.11/dist-packages (from scikit-learn) (1.5.0)\n",
            "Requirement already satisfied: threadpoolctl>=3.1.0 in /usr/local/lib/python3.11/dist-packages (from scikit-learn) (3.6.0)\n",
            "Requirement already satisfied: six>=1.5 in /usr/local/lib/python3.11/dist-packages (from python-dateutil>=2.8.2->pandas) (1.17.0)\n"
          ]
        }
      ]
    },
    {
      "cell_type": "markdown",
      "source": [
        "Klasifikasi teks dengan Machine Learning.\n",
        "This dataset is a collection newsgroup documents. The 20 newsgroups collection has become a popular data set for experiments in text applications of machine learning techniques, such as text classification and text clustering.\n"
      ],
      "metadata": {
        "id": "1G6TqUQzwYrq"
      }
    },
    {
      "cell_type": "code",
      "source": [
        "from sklearn.model_selection import train_test_split\n",
        "from sklearn.feature_extraction.text import TfidfVectorizer\n",
        "from sklearn.naive_bayes import MultinomialNB\n",
        "from sklearn.pipeline import make_pipeline\n",
        "from sklearn import metrics\n",
        "import pandas as pd\n",
        "\n",
        "\n",
        "# 1. Mengumpulkan data\n",
        "df = pd.read_csv(\"ulasan.csv\")\n",
        "\n",
        "# 2. Menyiapkan fitur dan label\n",
        "X = df['ulasan']\n",
        "y = df['score']\n",
        "\n",
        "# 3. Membagi data menjadi training dan testing set\n",
        "X_train, X_test, y_train, y_test = train_test_split(X, y, test_size=0.25, random_state=42)\n",
        "\n",
        "# 4. Melatih model\n",
        "# Membuat pipeline yang mencakup TfidfVectorizer dan MultinomialNB\n",
        "model = make_pipeline(TfidfVectorizer(), MultinomialNB())\n",
        "\n",
        "# Melatih model menggunakan training set\n",
        "model.fit(X_train, y_train)\n",
        "\n",
        "# 5. Mengevaluasi model\n",
        "# Prediksi pada testing set\n",
        "y_pred = model.predict(X_test)\n",
        "\n",
        "# Evaluasi kinerja model\n",
        "print(f\"Accuracy: {metrics.accuracy_score(y_test, y_pred):.3f}\")\n",
        "print(\"Classification Report:\")\n",
        "print(metrics.classification_report(y_test, y_pred, zero_division=0))\n",
        "# Confusion Matrix\n",
        "print(\"Confusion Matrix:\")\n",
        "print(metrics.confusion_matrix(y_test, y_pred))\n"
      ],
      "metadata": {
        "colab": {
          "base_uri": "https://localhost:8080/"
        },
        "id": "2-IzwLWVwAih",
        "outputId": "96dc83e2-d3b8-4c10-bc08-e6c601e48f06"
      },
      "execution_count": 10,
      "outputs": [
        {
          "output_type": "stream",
          "name": "stdout",
          "text": [
            "Accuracy: 0.656\n",
            "Classification Report:\n",
            "              precision    recall  f1-score   support\n",
            "\n",
            "           1       0.60      1.00      0.75       116\n",
            "           2       0.00      0.00      0.00        19\n",
            "           3       0.00      0.00      0.00        16\n",
            "           4       0.00      0.00      0.00        16\n",
            "           5       0.83      0.58      0.68        83\n",
            "\n",
            "    accuracy                           0.66       250\n",
            "   macro avg       0.29      0.32      0.29       250\n",
            "weighted avg       0.56      0.66      0.58       250\n",
            "\n",
            "Confusion Matrix:\n",
            "[[116   0   0   0   0]\n",
            " [ 18   0   0   0   1]\n",
            " [ 14   0   0   0   2]\n",
            " [  9   0   0   0   7]\n",
            " [ 35   0   0   0  48]]\n"
          ]
        }
      ]
    }
  ]
}